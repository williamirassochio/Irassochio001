{
 "cells": [
  {
   "cell_type": "code",
   "execution_count": 1,
   "id": "6b3bc518",
   "metadata": {},
   "outputs": [
    {
     "name": "stdout",
     "output_type": "stream",
     "text": [
      "Olá, seja bem vindo!Digite seu nome completo william\n",
      "Digite seu cpf 01460332059\n",
      "william 01460332059\n",
      "Digite o produto:     calabresa\n",
      "[24.9]\n",
      "Digite o produto:     queijo\n",
      "[24.9, 49.9]\n",
      "Digite o produto:     molho\n",
      "[24.9, 49.9, 2.0]\n",
      "Digite o produto:     caixa pizza\n",
      "[24.9, 49.9, 2.0, 2.99]\n",
      "Digite o produto:     \n",
      "Pedido finalizado!Suas compras foram ['calabresa', 'queijo', 'molho', 'caixa pizza', '']\n",
      "Total a pagar R$:79.78999999999999\n"
     ]
    }
   ],
   "source": [
    "produtos  =  [ 'caixa pizza','queijo','massa pizza','molho','calabresa','cebola','azeitona','frango','requeijão','milho'] \n",
    "valores  =  [ 2.99,49.90,2.00,2.00,24.90,5.00,15.00,13.49,25.00,3.00] \n",
    "\n",
    "#perguntar nome completo do cliente e cpf com input\n",
    "\n",
    "cliente = input('Olá, seja bem vindo!Digite seu nome completo ')\n",
    "cpf_cliente = input('Digite seu cpf ')\n",
    "print(cliente,\n",
    "      \n",
    "      cpf_cliente\n",
    "     )\n",
    "#lista com produtos digitados\n",
    "carrinho_produtos = []\n",
    "valores_produtos = []\n",
    "\n",
    "#digitei o produto que deseja colocar no carrinho\n",
    "while True:\n",
    "    produto = input('Digite o produto:     ')\n",
    "    carrinho_produtos.append(produto)\n",
    "    if produto == '':\n",
    "        print('Pedido finalizado!Suas compras foram {}'.format(carrinho_produtos))\n",
    "        break  \n",
    "    i = produtos.index(produto)\n",
    "    valores_produtos.append(valores[i])\n",
    "    print(valores_produtos)\n",
    "soma_dos_produtos  = 0  \n",
    "for valores in valores_produtos:\n",
    "    soma_dos_produtos += valores\n",
    "texto = ('Total a pagar R$:{}'.format(soma_dos_produtos))\n",
    "print(texto)\n",
    "    "
   ]
  }
 ],
 "metadata": {
  "kernelspec": {
   "display_name": "Python 3",
   "language": "python",
   "name": "python3"
  },
  "language_info": {
   "codemirror_mode": {
    "name": "ipython",
    "version": 3
   },
   "file_extension": ".py",
   "mimetype": "text/x-python",
   "name": "python",
   "nbconvert_exporter": "python",
   "pygments_lexer": "ipython3",
   "version": "3.8.8"
  }
 },
 "nbformat": 4,
 "nbformat_minor": 5
}
