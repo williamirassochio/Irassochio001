{
 "cells": [
  {
   "cell_type": "code",
   "execution_count": null,
   "id": "e43214b2",
   "metadata": {},
   "outputs": [],
   "source": [
    "produtos  =  [ 'caixa pizza','queijo','massa pizza','molho','calabresa','cebola','azeitona','frango','requeijão','milho' ] \n",
    "valores  =  [ 2.99,49.90,2.00,2.00,24.90,5.00,15.00,13.49,25.00,3.00 ] \n",
    "Categorias  =  [ 'embalagens','insumos' ]\n",
    "\n",
    "#perguntar nome completo do cliente e cpf com input\n",
    "\n",
    "cliente = input('Olá, seja bem vindo!Digite seu nome completo ')\n",
    "cpf_cliente = input('Digite seu cpf ')\n",
    "print(cliente,\n",
    "      \n",
    "      cpf_cliente\n",
    "     )\n",
    "\n",
    "#digitei o produto que deseja colocar no carrinho\n",
    "\n",
    "produto = input('Digite seu produto ')\n",
    "for i,produto in enumerate(produtos):\n",
    "    print(i)"
   ]
  },
  {
   "cell_type": "code",
   "execution_count": null,
   "id": "bdcbb7d3",
   "metadata": {},
   "outputs": [],
   "source": []
  }
 ],
 "metadata": {
  "kernelspec": {
   "display_name": "Python 3",
   "language": "python",
   "name": "python3"
  },
  "language_info": {
   "codemirror_mode": {
    "name": "ipython",
    "version": 3
   },
   "file_extension": ".py",
   "mimetype": "text/x-python",
   "name": "python",
   "nbconvert_exporter": "python",
   "pygments_lexer": "ipython3",
   "version": "3.8.8"
  }
 },
 "nbformat": 4,
 "nbformat_minor": 5
}
